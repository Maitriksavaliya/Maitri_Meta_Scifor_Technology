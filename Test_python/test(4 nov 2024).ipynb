{
  "nbformat": 4,
  "nbformat_minor": 0,
  "metadata": {
    "colab": {
      "provenance": [],
      "authorship_tag": "ABX9TyNR5cvA9Fb4Yrby1PX10tI+",
      "include_colab_link": true
    },
    "kernelspec": {
      "name": "python3",
      "display_name": "Python 3"
    },
    "language_info": {
      "name": "python"
    }
  },
  "cells": [
    {
      "cell_type": "markdown",
      "metadata": {
        "id": "view-in-github",
        "colab_type": "text"
      },
      "source": [
        "<a href=\"https://colab.research.google.com/github/Maitriksavaliya/Maitri_Meta_Scifor_Technology/blob/main/Test_python/test(4%20nov%202024).ipynb\" target=\"_parent\"><img src=\"https://colab.research.google.com/assets/colab-badge.svg\" alt=\"Open In Colab\"/></a>"
      ]
    },
    {
      "cell_type": "markdown",
      "source": [
        "# Q1]\n",
        "Lists are mutable, meaning they can be modified after their creation.\n",
        "\n",
        " e.g., list = [1, 2, 3]\n",
        "\n",
        " Tuples are immutable, meaning they cannot be changed after creation.\n",
        "\n",
        "  e.g., tuple = (1, 2, 3)\n",
        "\n",
        "  we choose a tuple if we want a fixed collection of items, no accidental modification and potentially more efficient. Lists are better when we need a dynamic structure that we can modify during runtime."
      ],
      "metadata": {
        "id": "_V0BExLjnjDs"
      }
    },
    {
      "cell_type": "code",
      "execution_count": 2,
      "metadata": {
        "colab": {
          "base_uri": "https://localhost:8080/"
        },
        "id": "5drYcgZUngPb",
        "outputId": "069247cc-d29c-4b4b-a97d-0480ebbb5d88"
      },
      "outputs": [
        {
          "output_type": "stream",
          "name": "stdout",
          "text": [
            "[1, 2, 3]\n",
            "[1, 2, 3, 4]\n",
            "(1, 2, 3)\n"
          ]
        }
      ],
      "source": [
        "list=[1,2,3]\n",
        "print(list)\n",
        "list.append(4)\n",
        "print(list)\n",
        "tuple=(1,2,3)\n",
        "print(tuple)"
      ]
    },
    {
      "cell_type": "markdown",
      "source": [
        "#Q2]"
      ],
      "metadata": {
        "id": "TQKWHNYnpStG"
      }
    },
    {
      "cell_type": "code",
      "source": [
        "def get_evenno(list):\n",
        "    even_numbers = []\n",
        "    for num in list:\n",
        "        if num % 2 == 0:\n",
        "            even_numbers.append(num)\n",
        "    return even_numbers\n",
        "\n",
        "list=[1,2,3,4,5,6,7,8,9,0]\n",
        "print(get_evenno(list))"
      ],
      "metadata": {
        "colab": {
          "base_uri": "https://localhost:8080/"
        },
        "id": "cuvD1eO9ppJr",
        "outputId": "028e2d25-1b22-4c59-e3ad-0cef8bee22a7"
      },
      "execution_count": 3,
      "outputs": [
        {
          "output_type": "stream",
          "name": "stdout",
          "text": [
            "[2, 4, 6, 8, 0]\n"
          ]
        }
      ]
    },
    {
      "cell_type": "markdown",
      "source": [
        "#Q3]\n",
        "In Python, the garbage collector (GC) is a part of the memory management system responsible for automatically freeing up memory by deleting objects that are no longer in use. This is essential for preventing memory leaks and ensuring efficient memory usage.\n",
        "\n",
        "Python uses reference counting and a cyclic garbage collector:\n",
        "\n",
        "1) Reference Counting: Each object in Python has a reference count. When the reference count drops to zero no variable is referencing it, the memory for that object is freed.\n",
        "\n",
        "2) Cyclic Garbage Collector: Handles reference cycles like if two objects referencing each other then Python’s gc module finds cycles and breaks them so memory can be freed."
      ],
      "metadata": {
        "id": "e4a1ocL8p_2A"
      }
    },
    {
      "cell_type": "markdown",
      "source": [
        "#Q4]"
      ],
      "metadata": {
        "id": "JNCHHgDJrcbc"
      }
    },
    {
      "cell_type": "code",
      "source": [
        "def average_scores(student_scores):\n",
        "    averages = {}\n",
        "    for student, scores in student_scores.items():\n",
        "        avg = sum(scores) / len(scores)\n",
        "        averages[student] = avg\n",
        "\n",
        "    return averages\n",
        "\n",
        "student_scores = {\n",
        "    \"vishal\": [85, 90, 78],\n",
        "    \"yash\": [70, 80],\n",
        "    \"heli\": [95, 100, 98],\n",
        "}\n",
        "\n",
        "print(average_scores(student_scores))"
      ],
      "metadata": {
        "colab": {
          "base_uri": "https://localhost:8080/"
        },
        "id": "lbfBfLTtrtmR",
        "outputId": "00035c1f-d699-4a90-ccbd-bf1b7ef962f5"
      },
      "execution_count": 7,
      "outputs": [
        {
          "output_type": "stream",
          "name": "stdout",
          "text": [
            "{'vishal': 84.33333333333333, 'yash': 75.0, 'heli': 97.66666666666667}\n"
          ]
        }
      ]
    },
    {
      "cell_type": "markdown",
      "source": [
        "#Q5]\n",
        "*args allows a function to accept a variable number of positional arguments, which are accessible as a tuple inside the function.\n",
        "\n",
        "**kwargs allows a function to accept a variable number of keyword arguments, which are accessible as a dictionary."
      ],
      "metadata": {
        "id": "oOUVQkYfufh-"
      }
    },
    {
      "cell_type": "code",
      "source": [
        "\n",
        "def print_args(*args, **kwargs):\n",
        "    print(\"Positional arguments:\")\n",
        "    for arg in args:\n",
        "        print(arg)\n",
        "\n",
        "    print(\"Keyword arguments:\")\n",
        "    for key, value in kwargs.items():\n",
        "        print(f\"{key}: {value}\")\n",
        "\n",
        "print_args(1, 2, 3, name=\"Vishal\", age=21)"
      ],
      "metadata": {
        "colab": {
          "base_uri": "https://localhost:8080/"
        },
        "id": "tNDKrcz2v3ub",
        "outputId": "2aa3abac-f186-469e-904d-e6de966607b6"
      },
      "execution_count": 9,
      "outputs": [
        {
          "output_type": "stream",
          "name": "stdout",
          "text": [
            "Positional arguments:\n",
            "1\n",
            "2\n",
            "3\n",
            "Keyword arguments:\n",
            "name: Vishal\n",
            "age: 21\n"
          ]
        }
      ]
    },
    {
      "cell_type": "markdown",
      "source": [
        "# streamlit\n",
        "#Q1]\n",
        "st.cache is a decorator that caches the output of a function to avoid re-running it if the function is called with the same inputs. This improves performance by reducing redundant computations.\n",
        "\n",
        "Avoid using st.cache with functions that have side effects, depend on real-time data, or need to be executed each time due to external changes e.g., fetching live data from an API."
      ],
      "metadata": {
        "id": "qgcl7-Tzv2sb"
      }
    },
    {
      "cell_type": "markdown",
      "source": [
        "#Q2]\n"
      ],
      "metadata": {
        "id": "KxonReQzx_cx"
      }
    },
    {
      "cell_type": "code",
      "source": [
        "import streamlit as st\n",
        "\n",
        "name = st.text_input('Enter your name:')\n",
        "if name:\n",
        "    st.write(f'good morning, {name}.')"
      ],
      "metadata": {
        "id": "6XWy-n3uyd0W"
      },
      "execution_count": null,
      "outputs": []
    },
    {
      "cell_type": "markdown",
      "source": [
        "#Q3]\n",
        "st.sidebar is a Streamlit component that creates a sidebar where you can add widgets. This keeps the main app area clean and organized by moving secondary controls to the side.\n",
        "\n",
        " It simplifies the main view and provides a convenient place for filters, settings, and options this improves the user experience"
      ],
      "metadata": {
        "id": "S6MVDcLGyfMo"
      }
    },
    {
      "cell_type": "code",
      "source": [
        "import streamlit as st\n",
        "\n",
        "st.title('sidebar example')\n",
        "st.sidebar.title('sidebar')\n",
        "st.sidebar.text_input('enter your name')"
      ],
      "metadata": {
        "id": "olLGXseBzM3L"
      },
      "execution_count": null,
      "outputs": []
    },
    {
      "cell_type": "markdown",
      "source": [
        "#Q4]"
      ],
      "metadata": {
        "id": "GPVSRbDJz0jw"
      }
    },
    {
      "cell_type": "code",
      "source": [
        "import streamlit as st\n",
        "import pandas as pd\n",
        "import numpy as np\n",
        "\n",
        "number = st.slider('select the number of data points',min_value=10, max_value=100)\n",
        "df=pd.DataFrame(np.random.randn(number,2),columns=['x','y'])\n",
        "st.line_chart(df)"
      ],
      "metadata": {
        "id": "3w7vUl9x0PGk"
      },
      "execution_count": null,
      "outputs": []
    },
    {
      "cell_type": "markdown",
      "source": [
        "#Q5]\n",
        "st.button: When clicked, it triggers a rerun of the app, which can be useful for actions like refreshing data or submitting forms.\n",
        "\n",
        "st.checkbox: Allows toggling of options, which can dynamically adjust the display without reloading the entire app.\n",
        "\n",
        "Real-time updates are useful in a dashboard that shows live sensor data; clicking a button can refresh the data, or selecting a checkbox could filter displayed data without affecting other app elements."
      ],
      "metadata": {
        "id": "FXx60tcr1bpM"
      }
    }
  ]
}