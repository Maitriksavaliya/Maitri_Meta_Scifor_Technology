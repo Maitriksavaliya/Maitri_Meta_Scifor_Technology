{
  "nbformat": 4,
  "nbformat_minor": 0,
  "metadata": {
    "colab": {
      "provenance": [],
      "include_colab_link": true
    },
    "kernelspec": {
      "name": "python3",
      "display_name": "Python 3"
    },
    "language_info": {
      "name": "python"
    }
  },
  "cells": [
    {
      "cell_type": "markdown",
      "metadata": {
        "id": "view-in-github",
        "colab_type": "text"
      },
      "source": [
        "<a href=\"https://colab.research.google.com/github/Maitriksavaliya/Maitri_Meta_Scifor_Technology/blob/main/Test_python/MST03_0096(savaliya_maitri_kishorbhai).ipynb\" target=\"_parent\"><img src=\"https://colab.research.google.com/assets/colab-badge.svg\" alt=\"Open In Colab\"/></a>"
      ]
    },
    {
      "cell_type": "markdown",
      "source": [
        "Q1\n",
        "some of the data type in python are :\n",
        "integer: +ve or -ve whole no.\n",
        "\n",
        "float: +ve or -ve decimal no.\n",
        "\n",
        "string: sequence of character enclosed in \"\"/''.\n",
        "\n",
        "list: ordered collection of item which can be of diff data type enclosed in [],it is mutable.\n",
        "\n",
        "tuple:ordered collection of item which can be of diff data type enclosed in (),it is immutable.\n",
        "\n",
        "dictionary: unordered collection of iten in key-value pair.\n",
        "\n",
        "set: unordered collection of unique item which can be of diff data type enclosed in {},it is mutable.\n",
        "\n",
        "\n",
        "\n"
      ],
      "metadata": {
        "id": "eC0-_YioVF-d"
      }
    },
    {
      "cell_type": "code",
      "execution_count": null,
      "metadata": {
        "colab": {
          "base_uri": "https://localhost:8080/"
        },
        "id": "szcE1peGVEDl",
        "outputId": "6a75fa20-3ca0-46be-c131-4215621e12e7"
      },
      "outputs": [
        {
          "output_type": "stream",
          "name": "stdout",
          "text": [
            "<class 'int'>\n",
            "<class 'int'>\n",
            "<class 'float'>\n",
            "<class 'set'>\n",
            "<class 'list'>\n",
            "<class 'tuple'>\n",
            "<class 'dict'>\n",
            "<class 'set'>\n"
          ]
        }
      ],
      "source": [
        "# integer\n",
        "x,y=10,-5\n",
        "\n",
        "# float\n",
        "f=10.5\n",
        "\n",
        "#string\n",
        "s=\"hello world\"\n",
        "\n",
        "#list\n",
        "l=[1,'a',2.5]\n",
        "\n",
        "#tuple\n",
        "t=(1,'a',2.5)\n",
        "\n",
        "#dictionary\n",
        "d={'name':'john','age':30}\n",
        "\n",
        "#set\n",
        "s={1,2,3}\n",
        "\n",
        "print(type(x))\n",
        "print(type(y))\n",
        "print(type(f))\n",
        "print(type(s))\n",
        "print(type(l))\n",
        "print(type(t))\n",
        "print(type(d))\n",
        "print(type(s))"
      ]
    },
    {
      "cell_type": "markdown",
      "source": [
        "Q2\n",
        "list: ordered collection of item which can be of diff data type enclosed in [],it is mutable, duplicates allowed.\n",
        "\n",
        "tuple:ordered collection of item which can be of diff data type enclosed in (),it is immutable,duplicates allowed.\n",
        "\n",
        "set: unordered collection of unique item which can be of diff data type enclosed in {},it is mutable,duplicates not allowed.\n",
        "\n",
        "mutable means canbe modified after creation\n",
        "immutable means can not be modified after creation\n"
      ],
      "metadata": {
        "id": "qaNd4ZTjW-SY"
      }
    },
    {
      "cell_type": "code",
      "source": [
        "l=[1,'a',2.5]\n",
        "l[1]='b'\n",
        "print(l)\n",
        "\n",
        "t=(1,'a',2.5)\n",
        "\n",
        "s={1,2,3}\n",
        "s.add(4)\n",
        "print(s)"
      ],
      "metadata": {
        "colab": {
          "base_uri": "https://localhost:8080/"
        },
        "id": "Nx7NhciEXWMx",
        "outputId": "e8388deb-e463-448f-c77a-845ea2faea28"
      },
      "execution_count": null,
      "outputs": [
        {
          "output_type": "stream",
          "name": "stdout",
          "text": [
            "[1, 'b', 2.5]\n",
            "{1, 2, 3, 4}\n"
          ]
        }
      ]
    },
    {
      "cell_type": "markdown",
      "source": [
        "Q3\n",
        "try: block of code that might raise error\n",
        "\n",
        "except: catches and handle exception\n",
        "\n",
        "else: block that runs when no error occured\n",
        "\n",
        "finally: executes the code weather the error has occured or note"
      ],
      "metadata": {
        "id": "NeuRNgnlXyDt"
      }
    },
    {
      "cell_type": "code",
      "source": [
        "try:\n",
        "  x=10/0\n",
        "  print(x)\n",
        "except:\n",
        "  print(\"error\")\n",
        "else:\n",
        "  print(\"no error\")\n",
        "finally:\n",
        "  print(\"finally\")"
      ],
      "metadata": {
        "colab": {
          "base_uri": "https://localhost:8080/"
        },
        "id": "3kbw2tPRXxua",
        "outputId": "9a2fc7d3-9808-477a-d00e-e6c8d6c482c5"
      },
      "execution_count": null,
      "outputs": [
        {
          "output_type": "stream",
          "name": "stdout",
          "text": [
            "error\n",
            "finally\n"
          ]
        }
      ]
    },
    {
      "cell_type": "markdown",
      "source": [
        "Q4\n",
        "decorator are the function that modify the behaviour of another function or method.they add functionality before and after the function exicution"
      ],
      "metadata": {
        "id": "_-jLFQgOY7dX"
      }
    },
    {
      "cell_type": "code",
      "source": [
        "def decorator(func):\n",
        "  def wrapper():\n",
        "    print(\"before\")\n",
        "    func()\n",
        "    print(\"after\")\n",
        "  return wrapper\n",
        "\n",
        "@decorator\n",
        "def greet():\n",
        "  print(\"hello\")\n",
        "\n",
        "greet()"
      ],
      "metadata": {
        "colab": {
          "base_uri": "https://localhost:8080/"
        },
        "id": "jOqCdQTUY8Gi",
        "outputId": "eab7f9a3-d5af-473d-c9a7-d2d99eb8e919"
      },
      "execution_count": null,
      "outputs": [
        {
          "output_type": "stream",
          "name": "stdout",
          "text": [
            "before\n",
            "hello\n",
            "after\n"
          ]
        }
      ]
    },
    {
      "cell_type": "markdown",
      "source": [
        "Q5\n",
        "lambda function are the anonymous function defined using lambda keyword,they are short and simple"
      ],
      "metadata": {
        "id": "89BJgL2eZqJh"
      }
    },
    {
      "cell_type": "code",
      "source": [
        "add= lambda x,y:x+y\n",
        "print(add(2,3))"
      ],
      "metadata": {
        "colab": {
          "base_uri": "https://localhost:8080/"
        },
        "id": "osWslxR-aAel",
        "outputId": "5b0af7bc-222a-4ac8-edd9-c28a8ccd406f"
      },
      "execution_count": null,
      "outputs": [
        {
          "output_type": "stream",
          "name": "stdout",
          "text": [
            "5\n"
          ]
        }
      ]
    },
    {
      "cell_type": "markdown",
      "source": [
        "Q7\n",
        "open(): it is used to open the file in different modes.\n",
        "\n",
        "read():reads the content of the file.\n",
        "\n",
        "write():write the content to the file.\n",
        "\n",
        " different modes are\n",
        "\n",
        "*   'r': read\n",
        "*   'w': write at the begning(overrites the file)\n",
        "*   'a': write at the end(add to the end of the content of the file)\n",
        "\n"
      ],
      "metadata": {
        "id": "YFaYhraMaHnT"
      }
    },
    {
      "cell_type": "code",
      "source": [
        "f=open(\"file.txt\",'r')\n",
        "print(f.read())\n",
        "\n",
        "f=open(\"file.txt\",'w')\n",
        "f.write(\"hello\")\n",
        "\n",
        "f=open(\"file.txt\",'a')\n",
        "f.write(\"world\")"
      ],
      "metadata": {
        "id": "gR9paL75bTp-"
      },
      "execution_count": null,
      "outputs": []
    },
    {
      "cell_type": "markdown",
      "source": [
        "## OOPS\n"
      ],
      "metadata": {
        "id": "2TL-Ili5bjax"
      }
    },
    {
      "cell_type": "markdown",
      "source": [
        "Q1\n",
        "oops is the programing paradigram based on the concept of class and its instance object\n",
        "\n",
        "some basic principle of oops are:\n",
        "\n",
        "\n",
        "1.   encapsulation: creating a attribute /method that operate on the data within the same class\n",
        "2.   abstraction: hiding the complex implementation details form its use\n",
        "3.   inheritance: concept to create a new class that inherits the methods of other exixting class\n",
        "4.   polymorphism: allows a single interface to be used in multiple type of entities\n",
        "\n",
        "\n"
      ],
      "metadata": {
        "id": "UWATyajsbp7q"
      }
    },
    {
      "cell_type": "code",
      "source": [
        "# encaptulation\n",
        "class Bank:\n",
        "  def __init__(self,name,balance):\n",
        "    self.name=name\n",
        "    self.__balance=balance\n",
        "\n",
        "  def get_balance(self):\n",
        "    return self.__balance\n",
        "\n",
        "x=Bank(\"john\",1000)\n",
        "print(x.get_balance())\n",
        "\n",
        "# abstraction\n",
        "class Shape:\n",
        "  def area(self):\n",
        "    pass\n",
        "\n",
        "class Circle(Shape):\n",
        "  def __init__(self,radius):\n",
        "    self.radius=radius\n",
        "\n",
        "  def area(self):\n",
        "    return 3.14*self.radius**2\n",
        "\n",
        "#inheritance\n",
        "class Animal:\n",
        "  def sound(self):\n",
        "    pass\n",
        "\n",
        "class Dog(Animal):\n",
        "  def sound(self):\n",
        "    return \"bark\"\n",
        "\n",
        "# polymorphism\n",
        "class Animal:\n",
        "  def sound(self):\n",
        "    pass\n",
        "\n",
        "class Dog(Animal):\n",
        "  def sound(self):\n",
        "    return \"bark\"\n",
        "\n",
        "class Cat(Animal):\n",
        "  def sound(self):\n",
        "    return \"meow\"\n",
        "\n"
      ],
      "metadata": {
        "colab": {
          "base_uri": "https://localhost:8080/"
        },
        "id": "4BCGMtkcdsFH",
        "outputId": "9190a4f0-9eac-4312-dac9-3ae12012894f"
      },
      "execution_count": null,
      "outputs": [
        {
          "output_type": "stream",
          "name": "stdout",
          "text": [
            "1000\n"
          ]
        }
      ]
    },
    {
      "cell_type": "markdown",
      "source": [
        "Q2\n",
        "class: is the blueprint of the instance containing different attributs and method\n",
        "\n",
        "object: is the instance of the class"
      ],
      "metadata": {
        "id": "B9qV-BoYepJv"
      }
    },
    {
      "cell_type": "code",
      "source": [
        "#Q3\n",
        "class Bank:\n",
        "  def __init__(self,name,balance):\n",
        "    self.name=name\n",
        "    self.balance=balance\n",
        "\n",
        "x=Bank(\"john\",1000)\n",
        "print(x.name)\n",
        "print(x.balance)"
      ],
      "metadata": {
        "id": "D2USuzGae96U"
      },
      "execution_count": null,
      "outputs": []
    },
    {
      "cell_type": "markdown",
      "source": [
        "Q4\n",
        "instance variable: it is specific to the object\n",
        "\n",
        "class variable: they are shared among all the instance of a class"
      ],
      "metadata": {
        "id": "6eOSM6_yfIvf"
      }
    },
    {
      "cell_type": "code",
      "source": [
        "class Bank:\n",
        "  bank_name=\"sbi\"\n",
        "  def __init__(self,name,balance):\n",
        "    self.name=name\n",
        "    self.balance=balance\n",
        "x=Bank(\"john\",1000)\n",
        "print(x.name)\n",
        "print(x.balance)\n",
        "print(x.bank_name)"
      ],
      "metadata": {
        "colab": {
          "base_uri": "https://localhost:8080/"
        },
        "id": "TQVGnHQIfdvL",
        "outputId": "30239e72-7233-462f-aa89-60c1b4311f3b"
      },
      "execution_count": null,
      "outputs": [
        {
          "output_type": "stream",
          "name": "stdout",
          "text": [
            "john\n",
            "1000\n",
            "sbi\n"
          ]
        }
      ]
    },
    {
      "cell_type": "markdown",
      "source": [
        "Q5\n",
        "__init__: it is a constructor for initializing the object that is automatically called when the new object is created"
      ],
      "metadata": {
        "id": "kgDsF6MafmKN"
      }
    },
    {
      "cell_type": "code",
      "source": [
        "class Bank:\n",
        "  def __init__(self,name,balance):\n",
        "    self.name=name\n",
        "    self.balance=balance\n",
        "    print(\"object created\")\n",
        "x=Bank(\"john\",1000)"
      ],
      "metadata": {
        "colab": {
          "base_uri": "https://localhost:8080/"
        },
        "id": "P9lCBCRwf5as",
        "outputId": "f3c398c5-5978-46eb-c479-f431f52d5f83"
      },
      "execution_count": null,
      "outputs": [
        {
          "output_type": "stream",
          "name": "stdout",
          "text": [
            "object created\n"
          ]
        }
      ]
    },
    {
      "cell_type": "markdown",
      "source": [
        "Q6\n",
        "self: refers to the current instance of the class\n",
        "\n",
        "cls: refers to the class itself and is used in class method"
      ],
      "metadata": {
        "id": "kd7gbrHEgBFB"
      }
    },
    {
      "cell_type": "code",
      "source": [
        "class Bank:\n",
        "  def __init__(self,name,balance):\n",
        "    self.name=name\n",
        "    self.balance=balance\n",
        "  def get_balance(self):\n",
        "    return self.balance\n",
        "    @classmethod\n",
        "    def bank_name(cls):\n",
        "      print('sbi')\n",
        "x=Bank(\"john\",1000)\n",
        "print(x.get_balance())"
      ],
      "metadata": {
        "colab": {
          "base_uri": "https://localhost:8080/"
        },
        "id": "uUhxmoApgk6K",
        "outputId": "8b2ec813-b65e-48a9-99fb-57cfa4f46bd0"
      },
      "execution_count": null,
      "outputs": [
        {
          "output_type": "stream",
          "name": "stdout",
          "text": [
            "1000\n"
          ]
        }
      ]
    },
    {
      "cell_type": "markdown",
      "source": [
        "Q7\n",
        "inheritance: allows to create a new class inherited form othe clas\n",
        "there are different type of inheritance\n",
        "1. simple\n",
        "2. multiple\n",
        "3. multilevel\n",
        "4. hybrid"
      ],
      "metadata": {
        "id": "jX7QjoGKhQGz"
      }
    },
    {
      "cell_type": "code",
      "source": [
        "#simple inheritance\n",
        "class Animal:\n",
        "  def sound(self):\n",
        "    pass\n",
        "\n",
        "class Dog(Animal):\n",
        "  def sound(self):\n",
        "    return \"bark\"\n",
        "\n",
        "#multiple inheritance\n",
        "class A:\n",
        "  print('a')\n",
        "\n",
        "class B:\n",
        "  print('b')\n",
        "\n",
        "class C(A,B):\n",
        "  print('c')\n",
        "\n",
        "#multilevel inheritance\n",
        "class A:\n",
        "  print('a')\n",
        "\n",
        "class B(A):\n",
        "  print('b')\n",
        "\n",
        "class C(B):\n",
        "  print('c')\n",
        "\n",
        "#hybrid inheritance\n",
        "class A:\n",
        "  print('a')\n",
        "\n",
        "class B(A):\n",
        "  print('b')\n",
        "\n",
        "class C(A,B):\n",
        "  print('c')\n",
        "\n"
      ],
      "metadata": {
        "colab": {
          "base_uri": "https://localhost:8080/",
          "height": 384
        },
        "id": "4GZPgh-4hp8W",
        "outputId": "6704b6be-3d19-41f0-d120-71487d2de784"
      },
      "execution_count": null,
      "outputs": [
        {
          "output_type": "stream",
          "name": "stdout",
          "text": [
            "a\n",
            "b\n",
            "c\n",
            "a\n",
            "b\n",
            "c\n",
            "a\n",
            "b\n",
            "c\n"
          ]
        },
        {
          "output_type": "error",
          "ename": "TypeError",
          "evalue": "Cannot create a consistent method resolution\norder (MRO) for bases A, B",
          "traceback": [
            "\u001b[0;31m---------------------------------------------------------------------------\u001b[0m",
            "\u001b[0;31mTypeError\u001b[0m                                 Traceback (most recent call last)",
            "\u001b[0;32m<ipython-input-17-ac23fd495c13>\u001b[0m in \u001b[0;36m<cell line: 37>\u001b[0;34m()\u001b[0m\n\u001b[1;32m     35\u001b[0m   \u001b[0mprint\u001b[0m\u001b[0;34m(\u001b[0m\u001b[0;34m'b'\u001b[0m\u001b[0;34m)\u001b[0m\u001b[0;34m\u001b[0m\u001b[0;34m\u001b[0m\u001b[0m\n\u001b[1;32m     36\u001b[0m \u001b[0;34m\u001b[0m\u001b[0m\n\u001b[0;32m---> 37\u001b[0;31m \u001b[0;32mclass\u001b[0m \u001b[0mC\u001b[0m\u001b[0;34m(\u001b[0m\u001b[0mA\u001b[0m\u001b[0;34m,\u001b[0m\u001b[0mB\u001b[0m\u001b[0;34m)\u001b[0m\u001b[0;34m:\u001b[0m\u001b[0;34m\u001b[0m\u001b[0;34m\u001b[0m\u001b[0m\n\u001b[0m\u001b[1;32m     38\u001b[0m   \u001b[0mprint\u001b[0m\u001b[0;34m(\u001b[0m\u001b[0;34m'c'\u001b[0m\u001b[0;34m)\u001b[0m\u001b[0;34m\u001b[0m\u001b[0;34m\u001b[0m\u001b[0m\n\u001b[1;32m     39\u001b[0m \u001b[0;34m\u001b[0m\u001b[0m\n",
            "\u001b[0;31mTypeError\u001b[0m: Cannot create a consistent method resolution\norder (MRO) for bases A, B"
          ]
        }
      ]
    },
    {
      "cell_type": "markdown",
      "source": [
        "Q8\n",
        "method overriding: ovewrite the method of parent class by the subclass\n",
        "\n",
        "method overloading: function with the same name but having different set of parameters"
      ],
      "metadata": {
        "id": "0H3SVqWmiT3i"
      }
    },
    {
      "cell_type": "code",
      "source": [
        "class Animal:\n",
        "  def sound(self):\n",
        "    pass\n",
        "\n",
        "class Dog(Animal):\n",
        "  def sound(self):\n",
        "    return \"bark\"\n",
        "\n",
        "class Cat(Animal):\n",
        "  def sound(self):\n",
        "    return \"meow\"\n",
        "\n",
        "def animal_sound(animal):\n",
        "  print(animal.sound())\n",
        "\n",
        "animal_sound(Dog())\n",
        "animal_sound(Cat())"
      ],
      "metadata": {
        "colab": {
          "base_uri": "https://localhost:8080/"
        },
        "id": "QxcLrxO2i0xa",
        "outputId": "8fc406fb-384e-4d5a-cd03-341e0db52b3d"
      },
      "execution_count": null,
      "outputs": [
        {
          "output_type": "stream",
          "name": "stdout",
          "text": [
            "bark\n",
            "meow\n"
          ]
        }
      ]
    },
    {
      "cell_type": "markdown",
      "source": [
        "Q9\n",
        "multiple inheritance:a new class derived from the mutiple base class"
      ],
      "metadata": {
        "id": "BH271amTi4nt"
      }
    },
    {
      "cell_type": "code",
      "source": [
        "class A:\n",
        "  print('a')\n",
        "\n",
        "class B:\n",
        "  print('b')\n",
        "\n",
        "class C(A,B):\n",
        "  print('c')\n",
        "\n",
        "x=C()\n"
      ],
      "metadata": {
        "colab": {
          "base_uri": "https://localhost:8080/"
        },
        "id": "SFk4OpK2jNFj",
        "outputId": "d33a863e-91db-4d7e-f0ee-252b55cb2b73"
      },
      "execution_count": null,
      "outputs": [
        {
          "output_type": "stream",
          "name": "stdout",
          "text": [
            "a\n",
            "b\n",
            "c\n"
          ]
        }
      ]
    },
    {
      "cell_type": "markdown",
      "source": [
        "Q10\n",
        "Abstract classes define a blueprint for other classes and can include abstract methods that must be implemented by subclasses.\n",
        "\n",
        "Interfaces are similar but define a contract without any implementation."
      ],
      "metadata": {
        "id": "62KYwHpTjrhT"
      }
    },
    {
      "cell_type": "code",
      "source": [
        "# abstract class\n",
        "from abc import ABC,abstractmethod\n",
        "\n",
        "class Shape(ABC):\n",
        "  @abstractmethod\n",
        "  def area(self):\n",
        "    print(\"abstract method\")\n",
        "\n",
        "class Circle(Shape):\n",
        "  def __init__(self,radius):\n",
        "    self.radius=radius\n",
        "  def area(self):\n",
        "    return 3.14*self.radius**2\n",
        "\n",
        "x=Circle(10)\n",
        "print(x.area())\n",
        "\n",
        "# interface\n",
        "class Animal(ABC):\n",
        "  @abstractmethod\n",
        "  def sound(self):\n",
        "    print('abstarct class')\n",
        "\n",
        "class Dog(Animal):\n",
        "  def sound(self):\n",
        "    return \"bark\"\n",
        "x=Dog()\n",
        "print(x.sound())\n"
      ],
      "metadata": {
        "colab": {
          "base_uri": "https://localhost:8080/"
        },
        "id": "2ql_NT1Ykmlm",
        "outputId": "9755619a-7951-45d6-cae4-88d0dc16b361"
      },
      "execution_count": null,
      "outputs": [
        {
          "output_type": "stream",
          "name": "stdout",
          "text": [
            "314.0\n",
            "bark\n"
          ]
        }
      ]
    },
    {
      "cell_type": "markdown",
      "source": [
        "Q11\n",
        "polymorphism: allows a single interface to be used in multiple type of entities"
      ],
      "metadata": {
        "id": "wMA36o8dlD7X"
      }
    },
    {
      "cell_type": "code",
      "source": [
        "class Animal:\n",
        "  def sound(self):\n",
        "    pass\n",
        "\n",
        "class Dog(Animal):\n",
        "  def sound(self):\n",
        "    return \"bark\"\n",
        "\n",
        "class Cat(Animal):\n",
        "  def sound(self):\n",
        "    return \"meow\"\n",
        "\n",
        "def animal_sound(animal):\n",
        "  print(animal.sound())\n",
        "\n",
        "animal_sound(Dog())\n",
        "animal_sound(Cat())"
      ],
      "metadata": {
        "colab": {
          "base_uri": "https://localhost:8080/"
        },
        "id": "EWGViBH5lLhP",
        "outputId": "7be42285-d8bd-4a04-c087-a063f8f1da38"
      },
      "execution_count": null,
      "outputs": [
        {
          "output_type": "stream",
          "name": "stdout",
          "text": [
            "bark\n",
            "meow\n"
          ]
        }
      ]
    },
    {
      "cell_type": "markdown",
      "source": [
        "Q12\n",
        "encapsulation: creating a attribute /method that operate on the data within the same class"
      ],
      "metadata": {
        "id": "JPyJ8JxTlN3N"
      }
    },
    {
      "cell_type": "code",
      "source": [
        "class Bank:\n",
        "  def __init__(self,name,balance):\n",
        "    self.name=name\n",
        "    self.__balance=balance\n",
        "\n",
        "  def get_balance(self):\n",
        "    return self.__balance\n",
        "x=Bank(\"john\",1000)\n",
        "print(x.get_balance())"
      ],
      "metadata": {
        "colab": {
          "base_uri": "https://localhost:8080/"
        },
        "id": "hMWo0VUMlXbv",
        "outputId": "d66a0008-36ab-4939-f641-96962ffab052"
      },
      "execution_count": null,
      "outputs": [
        {
          "output_type": "stream",
          "name": "stdout",
          "text": [
            "1000\n"
          ]
        }
      ]
    },
    {
      "cell_type": "markdown",
      "source": [
        "Q15\n",
        "Static methods don’t require an instance to be called and can be called on the class itself, while class methods take a class parameter and can modify class state."
      ],
      "metadata": {
        "id": "6LvrTUEnlkcc"
      }
    },
    {
      "cell_type": "code",
      "source": [
        "class Math:\n",
        "  @staticmethod\n",
        "  def add(x,y):\n",
        "    return x+y\n",
        "\n",
        "  @classmethod\n",
        "  def multiply(cls,x,y):\n",
        "    return x*y\n",
        "\n",
        "print(Math.add(1,2))\n",
        "print(Math.multiply(1,2))"
      ],
      "metadata": {
        "colab": {
          "base_uri": "https://localhost:8080/"
        },
        "id": "RH9sI1Rflt3i",
        "outputId": "c838aa47-23ad-4385-a1e7-fe90ae639e56"
      },
      "execution_count": null,
      "outputs": [
        {
          "output_type": "stream",
          "name": "stdout",
          "text": [
            "3\n",
            "2\n"
          ]
        }
      ]
    }
  ]
}