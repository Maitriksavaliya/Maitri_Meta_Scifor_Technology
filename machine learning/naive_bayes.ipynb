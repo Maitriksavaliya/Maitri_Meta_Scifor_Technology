{
  "nbformat": 4,
  "nbformat_minor": 0,
  "metadata": {
    "colab": {
      "provenance": [],
      "authorship_tag": "ABX9TyPSvnqcivojrqL/dht7BKWt",
      "include_colab_link": true
    },
    "kernelspec": {
      "name": "python3",
      "display_name": "Python 3"
    },
    "language_info": {
      "name": "python"
    }
  },
  "cells": [
    {
      "cell_type": "markdown",
      "metadata": {
        "id": "view-in-github",
        "colab_type": "text"
      },
      "source": [
        "<a href=\"https://colab.research.google.com/github/Maitriksavaliya/Maitri_Meta_Scifor_Technology/blob/main/machine%20learning/naive_bayes.ipynb\" target=\"_parent\"><img src=\"https://colab.research.google.com/assets/colab-badge.svg\" alt=\"Open In Colab\"/></a>"
      ]
    },
    {
      "cell_type": "markdown",
      "source": [
        "# naive bayes"
      ],
      "metadata": {
        "id": "3fvZeog8gKcY"
      }
    },
    {
      "cell_type": "code",
      "execution_count": 6,
      "metadata": {
        "id": "Yky5aWnlfqc9"
      },
      "outputs": [],
      "source": [
        "# generating the dataset\n",
        "from sklearn.datasets import make_classification\n",
        "X,y=make_classification(n_features=6,n_classes=3,n_samples=800,n_informative=2,random_state=1,n_clusters_per_class=1)\n"
      ]
    },
    {
      "cell_type": "code",
      "source": [
        "#split train and test dataset\n",
        "from sklearn.model_selection import train_test_split\n",
        "X_train,X_test,y_train,y_test=train_test_split(X,y,test_size=0.33,random_state=125)\n"
      ],
      "metadata": {
        "id": "VVsG0BxXg8Jb"
      },
      "execution_count": 7,
      "outputs": []
    },
    {
      "cell_type": "code",
      "source": [
        "#building the model\n",
        "from sklearn.naive_bayes import GaussianNB\n",
        "model=GaussianNB()\n",
        "model.fit(X_train,y_train)\n",
        "pred=model.predict(X_test)\n",
        "print(f\"actual value:{y_test[6]}\")\n",
        "print(f\"predicted value:{pred}\")"
      ],
      "metadata": {
        "colab": {
          "base_uri": "https://localhost:8080/"
        },
        "id": "5bz_ODR0hdBC",
        "outputId": "099225af-65b6-4b57-9a69-92b7bd446d39"
      },
      "execution_count": 10,
      "outputs": [
        {
          "output_type": "stream",
          "name": "stdout",
          "text": [
            "actual value:0\n",
            "predicted value:[0 1 2 0 1 1 0 0 1 1 0 0 0 2 2 1 1 0 0 0 0 0 1 0 0 2 0 2 0 2 1 2 0 0 1 0 2\n",
            " 2 1 0 2 1 2 0 1 0 1 1 0 1 2 2 0 1 0 1 0 1 0 1 0 1 2 0 2 1 0 1 2 1 0 1 2 1\n",
            " 1 0 2 1 0 2 1 2 0 0 0 0 0 0 2 2 1 1 0 1 1 2 0 0 1 2 1 1 0 1 1 1 2 1 2 0 1\n",
            " 2 2 1 1 2 1 2 0 2 2 1 2 2 1 1 0 1 0 1 2 1 1 2 2 1 1 0 1 2 0 0 0 1 1 1 0 2\n",
            " 2 0 0 1 1 1 0 1 2 1 2 0 1 1 1 0 2 0 2 1 0 0 1 0 0 0 0 2 1 1 1 2 0 1 0 0 2\n",
            " 1 1 2 1 1 0 0 0 1 0 2 1 1 0 1 1 1 0 0 1 0 0 2 1 1 1 1 2 2 1 2 0 1 2 1 1 0\n",
            " 1 2 1 2 1 0 2 1 0 1 0 2 2 2 1 0 0 0 0 2 0 1 0 1 1 2 2 0 1 1 0 1 0 0 1 2 2\n",
            " 1 2 0 1 0]\n"
          ]
        }
      ]
    },
    {
      "cell_type": "code",
      "source": [
        "#calculate the accuracy\n",
        "from sklearn.metrics import (accuracy_score,confusion_matrix,ConfusionMatrixDisplay,f1_score)\n",
        "y_pred= model.predict(X_test)\n",
        "accuracy=accuracy_score(y_test,y_pred)\n",
        "f1=f1_score(y_test,y_pred,average='weighted')\n",
        "print(f\"accuracy:{accuracy}\")\n",
        "print(f\"f1 score:{f1}\")"
      ],
      "metadata": {
        "colab": {
          "base_uri": "https://localhost:8080/"
        },
        "id": "50bPqD36iKW-",
        "outputId": "103ca330-ee6a-4d49-c1c0-2638000fc464"
      },
      "execution_count": 11,
      "outputs": [
        {
          "output_type": "stream",
          "name": "stdout",
          "text": [
            "accuracy:0.8484848484848485\n",
            "f1 score:0.8478577273806642\n"
          ]
        }
      ]
    }
  ]
}