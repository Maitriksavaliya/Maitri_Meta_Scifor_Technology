{
  "nbformat": 4,
  "nbformat_minor": 0,
  "metadata": {
    "colab": {
      "provenance": [],
      "authorship_tag": "ABX9TyP+1kuVqRTsqWcgXsmMfs9X",
      "include_colab_link": true
    },
    "kernelspec": {
      "name": "python3",
      "display_name": "Python 3"
    },
    "language_info": {
      "name": "python"
    }
  },
  "cells": [
    {
      "cell_type": "markdown",
      "metadata": {
        "id": "view-in-github",
        "colab_type": "text"
      },
      "source": [
        "<a href=\"https://colab.research.google.com/github/Maitriksavaliya/Maitri_Meta_Scifor_Technology/blob/main/PYTHON/python_basics.ipynb\" target=\"_parent\"><img src=\"https://colab.research.google.com/assets/colab-badge.svg\" alt=\"Open In Colab\"/></a>"
      ]
    },
    {
      "cell_type": "code",
      "execution_count": 1,
      "metadata": {
        "colab": {
          "base_uri": "https://localhost:8080/"
        },
        "id": "1ayz64l87Ttr",
        "outputId": "8a842c8a-38bc-4488-b319-85c8092e1696"
      },
      "outputs": [
        {
          "output_type": "stream",
          "name": "stdout",
          "text": [
            "29\n"
          ]
        }
      ],
      "source": [
        "# find the sum of list element\n",
        "l=[1,5,8,6,9]\n",
        "sum=0\n",
        "for i in l:\n",
        "    sum = sum +i\n",
        "print(sum)"
      ]
    },
    {
      "cell_type": "code",
      "source": [
        "#largest element in a list\n",
        "l=[1,5,8,6,12,5]\n",
        "max=0\n",
        "for i in range(0,len(l)-1):\n",
        "    if l[i]<l[i+1]:\n",
        "        max=l[i+1]\n",
        "print(max)"
      ],
      "metadata": {
        "colab": {
          "base_uri": "https://localhost:8080/"
        },
        "id": "GWMy6SES7cL8",
        "outputId": "f2d870d9-65bd-4910-bbf9-904a05b3d90e"
      },
      "execution_count": 2,
      "outputs": [
        {
          "output_type": "stream",
          "name": "stdout",
          "text": [
            "12\n"
          ]
        }
      ]
    },
    {
      "cell_type": "code",
      "source": [
        "# remove duplicates in a list\n",
        "l=[5,3,1,6,5,8,2,6,2,6]\n",
        "print(list(set(l)))"
      ],
      "metadata": {
        "colab": {
          "base_uri": "https://localhost:8080/"
        },
        "id": "bQXbZjkv7jD4",
        "outputId": "faaa7d3f-bbab-4f2e-b754-b67106001f71"
      },
      "execution_count": 3,
      "outputs": [
        {
          "output_type": "stream",
          "name": "stdout",
          "text": [
            "[1, 2, 3, 5, 6, 8]\n"
          ]
        }
      ]
    },
    {
      "cell_type": "code",
      "source": [
        "# count the no of odd and even no in the list\n",
        "l=[1,5,8,6,9]\n",
        "count=0\n",
        "for i in l:\n",
        "    if i%2==0:\n",
        "        count=count+1\n",
        "odd=len(l)-count\n",
        "print(f'no of odds : {odd}')\n",
        "print(f'no of evens : {count}')"
      ],
      "metadata": {
        "colab": {
          "base_uri": "https://localhost:8080/"
        },
        "id": "Y-FLRuxp7j2I",
        "outputId": "f71b2108-075e-4385-ba64-6a5354518c57"
      },
      "execution_count": 4,
      "outputs": [
        {
          "output_type": "stream",
          "name": "stdout",
          "text": [
            "no of odds : 3\n",
            "no of evens : 2\n"
          ]
        }
      ]
    },
    {
      "cell_type": "code",
      "source": [
        "# check if a list is subset of another list\n",
        "l=[1,5,8,6,9]\n",
        "t=[5,8,9]\n",
        "x=set(t).issubset(l)\n",
        "print(f'{t} is subset is{l}')"
      ],
      "metadata": {
        "colab": {
          "base_uri": "https://localhost:8080/"
        },
        "id": "f1cN9EsS7nNS",
        "outputId": "bcff7f36-ec74-4e4d-b22a-5de4f4780339"
      },
      "execution_count": 5,
      "outputs": [
        {
          "output_type": "stream",
          "name": "stdout",
          "text": [
            "[5, 8, 9] is subset is[1, 5, 8, 6, 9]\n"
          ]
        }
      ]
    },
    {
      "cell_type": "code",
      "source": [
        "# max difference betn two consecutive elements in a list\n",
        "l=[1,5,8,6,9]\n",
        "maxdiff=0\n",
        "for i in range(1,len(l)):\n",
        "    diff=abs(l[i]-l[i-1])\n",
        "    if diff>maxdiff:\n",
        "        maxdiff=diff\n",
        "print(maxdiff)"
      ],
      "metadata": {
        "colab": {
          "base_uri": "https://localhost:8080/"
        },
        "id": "_sSjodUl7qzl",
        "outputId": "4204528b-438b-487c-df76-9da6761231dc"
      },
      "execution_count": 6,
      "outputs": [
        {
          "output_type": "stream",
          "name": "stdout",
          "text": [
            "4\n"
          ]
        }
      ]
    },
    {
      "cell_type": "code",
      "source": [
        "# check if all elements in a list are unique\n",
        "l=[1,5,8,6,9]\n",
        "print(len(l)==len(set(l)))"
      ],
      "metadata": {
        "colab": {
          "base_uri": "https://localhost:8080/"
        },
        "id": "gWW39N0e7u_R",
        "outputId": "a8e90776-ec34-403d-ad64-f3a9eda80f01"
      },
      "execution_count": 7,
      "outputs": [
        {
          "output_type": "stream",
          "name": "stdout",
          "text": [
            "True\n"
          ]
        }
      ]
    },
    {
      "cell_type": "code",
      "source": [
        "# merge multiple dictionaries\n",
        "def mergedict(*dicts):\n",
        "    merge={}\n",
        "    for i in dicts:\n",
        "        merge.update(i)\n",
        "    return merge\n",
        "d1={'a':1,'b':2}\n",
        "d2={'c':3,'d':4}\n",
        "print(mergedict(d1,d2))"
      ],
      "metadata": {
        "colab": {
          "base_uri": "https://localhost:8080/"
        },
        "id": "Bu7tPtWg7zvk",
        "outputId": "dc432f12-5d7f-4e86-ee5e-1d21ced399da"
      },
      "execution_count": 8,
      "outputs": [
        {
          "output_type": "stream",
          "name": "stdout",
          "text": [
            "{'a': 1, 'b': 2, 'c': 3, 'd': 4}\n"
          ]
        }
      ]
    },
    {
      "cell_type": "code",
      "source": [
        "# finding the freq of the word in the sentence\n",
        "sentence=\"the rain is raining, rainbow is beautiful\"\n",
        "w=sentence.split()\n",
        "freq={}\n",
        "for i in w:\n",
        "    freq[i] = freq.get(i,0)+1\n",
        "print(freq)"
      ],
      "metadata": {
        "colab": {
          "base_uri": "https://localhost:8080/"
        },
        "id": "mc1kSISW75Rf",
        "outputId": "3367cb30-9be4-40e2-86ec-f8553e697d5c"
      },
      "execution_count": 10,
      "outputs": [
        {
          "output_type": "stream",
          "name": "stdout",
          "text": [
            "{'the': 1, 'rain': 1, 'is': 2, 'raining,': 1, 'rainbow': 1, 'beautiful': 1}\n"
          ]
        }
      ]
    },
    {
      "cell_type": "code",
      "source": [
        "# program to reverse the list\n",
        "l=[1,5,8,6,9]\n",
        "print(l[::-1])"
      ],
      "metadata": {
        "colab": {
          "base_uri": "https://localhost:8080/"
        },
        "id": "pBshX8b88iCi",
        "outputId": "95429403-b20f-410f-8681-ad089ae38b78"
      },
      "execution_count": 11,
      "outputs": [
        {
          "output_type": "stream",
          "name": "stdout",
          "text": [
            "[9, 6, 8, 5, 1]\n"
          ]
        }
      ]
    }
  ]
}