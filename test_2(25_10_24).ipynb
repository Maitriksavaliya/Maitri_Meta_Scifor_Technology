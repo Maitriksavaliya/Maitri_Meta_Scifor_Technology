{
  "nbformat": 4,
  "nbformat_minor": 0,
  "metadata": {
    "colab": {
      "provenance": [],
      "authorship_tag": "ABX9TyPB5gCSlCyVyNWyLVR93i/A",
      "include_colab_link": true
    },
    "kernelspec": {
      "name": "python3",
      "display_name": "Python 3"
    },
    "language_info": {
      "name": "python"
    }
  },
  "cells": [
    {
      "cell_type": "markdown",
      "metadata": {
        "id": "view-in-github",
        "colab_type": "text"
      },
      "source": [
        "<a href=\"https://colab.research.google.com/github/Maitriksavaliya/Maitri_Meta_Scifor_Technology/blob/main/test_2(25_10_24).ipynb\" target=\"_parent\"><img src=\"https://colab.research.google.com/assets/colab-badge.svg\" alt=\"Open In Colab\"/></a>"
      ]
    },
    {
      "cell_type": "markdown",
      "source": [
        "# Q1 decorators\n",
        "decorators are a design that allows to modify the behaviour of a function or class.it is used to add functionality to the existing function or class in reusable and readable way"
      ],
      "metadata": {
        "id": "KaH7pr2AJjs3"
      }
    },
    {
      "cell_type": "code",
      "source": [
        "def My_decorator(func):\n",
        "  def wrapper():\n",
        "    print(\"before execution\")\n",
        "    func()\n",
        "    print(\"after execution\")\n",
        "  return wrapper\n",
        "\n",
        "@My_decorator\n",
        "def greet():\n",
        "  print(\"hello, good morning\")\n",
        "\n",
        "greet()"
      ],
      "metadata": {
        "colab": {
          "base_uri": "https://localhost:8080/"
        },
        "id": "VQq30wwJKY62",
        "outputId": "f8b57358-7c2d-4a64-d079-f4354ac7c37e"
      },
      "execution_count": 1,
      "outputs": [
        {
          "output_type": "stream",
          "name": "stdout",
          "text": [
            "before execution\n",
            "hello, good morning\n",
            "after execution\n"
          ]
        }
      ]
    },
    {
      "cell_type": "markdown",
      "source": [
        "# Q2 Method overloading and method overriding\n",
        "\n",
        "### method overloading:\n",
        "overloading is the technique in which have the same function name but have the different parameters.it is used when there is need of same function workind for different arguments\n",
        "\n",
        "### method overriding:\n",
        "overriding is the technique in which the method of deriver class have the same name that of the base class, the method of the derived class override the method of the base class"
      ],
      "metadata": {
        "id": "356JsbLFLV_K"
      }
    },
    {
      "cell_type": "code",
      "source": [
        "# overloading\n",
        "class overload:\n",
        "  def display(self,a=None,b=None):\n",
        "    if a is not None and b is not None:\n",
        "      return a,b\n",
        "    elif a is not None:\n",
        "      return a\n",
        "    else:\n",
        "      return \"no argument\"\n",
        "\n",
        "obj=overload()\n",
        "print(obj.display())\n",
        "print(obj.display(10))\n",
        "print(obj.display(10,20))\n",
        "\n",
        "# overriding\n",
        "class override:\n",
        "  def show(self,a):\n",
        "    print(f\"base class func:{a}\")\n",
        "\n",
        "class child(override):\n",
        "  def show(self,b):\n",
        "    print(f\"deriverd class func:{b}\")\n",
        "\n",
        "obj=child()\n",
        "obj.show(10)"
      ],
      "metadata": {
        "colab": {
          "base_uri": "https://localhost:8080/"
        },
        "id": "27mS7LLoM-9f",
        "outputId": "f53068a7-3976-4815-f726-7a15067ec911"
      },
      "execution_count": 5,
      "outputs": [
        {
          "output_type": "stream",
          "name": "stdout",
          "text": [
            "no argument\n",
            "10\n",
            "(10, 20)\n",
            "deriverd class func:10\n"
          ]
        }
      ]
    },
    {
      "cell_type": "markdown",
      "source": [
        "# Q3 hybrid inheritance\n",
        "hybrid inheritance is the combination of the multilevel and multiple inheritance"
      ],
      "metadata": {
        "id": "j9uXbfT8Oxsk"
      }
    },
    {
      "cell_type": "code",
      "source": [
        "class A:\n",
        "  def show_parent(self):\n",
        "    print(\"class A\")\n",
        "\n",
        "class B(A):\n",
        "  def show_child1(self):\n",
        "    print(\"class B\")\n",
        "\n",
        "class C(A):\n",
        "  def show_child2(self):\n",
        "    print(\"class C\")\n",
        "\n",
        "class D(B,C):\n",
        "  def show_granchild(self):\n",
        "    print(\"class D\")\n",
        "\n",
        "obj=D()\n",
        "obj.show_parent()\n",
        "obj.show_child1()\n",
        "obj.show_child2()\n",
        "obj.show_granchild()"
      ],
      "metadata": {
        "colab": {
          "base_uri": "https://localhost:8080/"
        },
        "id": "6Rpx9KG_PJNd",
        "outputId": "e8feadce-e517-4211-a650-0796e68fe75b"
      },
      "execution_count": 7,
      "outputs": [
        {
          "output_type": "stream",
          "name": "stdout",
          "text": [
            "class A\n",
            "class B\n",
            "class C\n",
            "class D\n"
          ]
        }
      ]
    },
    {
      "cell_type": "markdown",
      "source": [
        "# Q4 Time complexity and space complexity\n",
        "### 1]Stack:\n",
        "it is the LIFO(last in first out data structure) where the elements are added or removed from the top.\n",
        "* Time complexity:\n",
        "1. push(add element to the top of stack): O(1)\n",
        "2. pop(remove the top element): O(1)\n",
        "3. peek(access the top element): O(1)\n",
        "4. search(search the given element): O(n) bcs in the worst case need to search through all the element.\n",
        "\n",
        "*  space complexity:O(n) here n is the no of element in the stack\n",
        "\n",
        "###  2]Queue:\n",
        "it is a FIFO(first in first out) data sturcture where the element are added at the rear and removed form the front\n",
        "*   Time complexity:\n",
        "1. enqueue(add element at the rear):O(1)\n",
        "2. dequeue(remove element from the front):O(1)\n",
        "3. search(search the given element): O(n) bcs in the worst case need to search through all the element.\n",
        "\n",
        "*  space complexity:O(n) here n is the no of element in the queue\n",
        "\n",
        "### 3]linked list:\n",
        "it is the sequential collection of the nodes, where each nodes contain the data value and a reference to the next node.\n",
        "\n",
        "*  Time complexity:\n",
        "1. insert(add node to head /tail):O(1)\n",
        "2. delete(at head):O(1)\n",
        "3. access(any element):O(n) bcs it might required to travers the entire list\n",
        "4. search(search the element):O(n) searching for an element in a linked list requires traversal.\n",
        "\n",
        "*  space complexity:O(n) here n is the no of nodes in the list"
      ],
      "metadata": {
        "id": "Kzv4GLIsPbuB"
      }
    },
    {
      "cell_type": "markdown",
      "source": [
        "# Q5 streamlit widgets\n",
        "\n",
        "* st.button: creates the button\n",
        "* st.text_input: display a single-line text input for thaking text input form user\n",
        "* st.slider:display a slider which allow user to select the numerical value from the range"
      ],
      "metadata": {
        "id": "uHpcMXp1VBWV"
      }
    },
    {
      "cell_type": "code",
      "source": [
        "!pip install streamlit"
      ],
      "metadata": {
        "colab": {
          "base_uri": "https://localhost:8080/"
        },
        "id": "lQVg3NPgV24-",
        "outputId": "7ae8afcf-fa7e-4f13-9b0a-59863a54459d"
      },
      "execution_count": 8,
      "outputs": [
        {
          "output_type": "stream",
          "name": "stdout",
          "text": [
            "Collecting streamlit\n",
            "  Downloading streamlit-1.39.0-py2.py3-none-any.whl.metadata (8.5 kB)\n",
            "Requirement already satisfied: altair<6,>=4.0 in /usr/local/lib/python3.10/dist-packages (from streamlit) (4.2.2)\n",
            "Requirement already satisfied: blinker<2,>=1.0.0 in /usr/lib/python3/dist-packages (from streamlit) (1.4)\n",
            "Requirement already satisfied: cachetools<6,>=4.0 in /usr/local/lib/python3.10/dist-packages (from streamlit) (5.5.0)\n",
            "Requirement already satisfied: click<9,>=7.0 in /usr/local/lib/python3.10/dist-packages (from streamlit) (8.1.7)\n",
            "Requirement already satisfied: numpy<3,>=1.20 in /usr/local/lib/python3.10/dist-packages (from streamlit) (1.26.4)\n",
            "Requirement already satisfied: packaging<25,>=20 in /usr/local/lib/python3.10/dist-packages (from streamlit) (24.1)\n",
            "Requirement already satisfied: pandas<3,>=1.4.0 in /usr/local/lib/python3.10/dist-packages (from streamlit) (2.2.2)\n",
            "Requirement already satisfied: pillow<11,>=7.1.0 in /usr/local/lib/python3.10/dist-packages (from streamlit) (10.4.0)\n",
            "Requirement already satisfied: protobuf<6,>=3.20 in /usr/local/lib/python3.10/dist-packages (from streamlit) (3.20.3)\n",
            "Requirement already satisfied: pyarrow>=7.0 in /usr/local/lib/python3.10/dist-packages (from streamlit) (16.1.0)\n",
            "Requirement already satisfied: requests<3,>=2.27 in /usr/local/lib/python3.10/dist-packages (from streamlit) (2.32.3)\n",
            "Requirement already satisfied: rich<14,>=10.14.0 in /usr/local/lib/python3.10/dist-packages (from streamlit) (13.9.3)\n",
            "Requirement already satisfied: tenacity<10,>=8.1.0 in /usr/local/lib/python3.10/dist-packages (from streamlit) (9.0.0)\n",
            "Requirement already satisfied: toml<2,>=0.10.1 in /usr/local/lib/python3.10/dist-packages (from streamlit) (0.10.2)\n",
            "Requirement already satisfied: typing-extensions<5,>=4.3.0 in /usr/local/lib/python3.10/dist-packages (from streamlit) (4.12.2)\n",
            "Requirement already satisfied: gitpython!=3.1.19,<4,>=3.0.7 in /usr/local/lib/python3.10/dist-packages (from streamlit) (3.1.43)\n",
            "Collecting pydeck<1,>=0.8.0b4 (from streamlit)\n",
            "  Downloading pydeck-0.9.1-py2.py3-none-any.whl.metadata (4.1 kB)\n",
            "Requirement already satisfied: tornado<7,>=6.0.3 in /usr/local/lib/python3.10/dist-packages (from streamlit) (6.3.3)\n",
            "Collecting watchdog<6,>=2.1.5 (from streamlit)\n",
            "  Downloading watchdog-5.0.3-py3-none-manylinux2014_x86_64.whl.metadata (41 kB)\n",
            "\u001b[2K     \u001b[90m━━━━━━━━━━━━━━━━━━━━━━━━━━━━━━━━━━━━━━━━\u001b[0m \u001b[32m41.9/41.9 kB\u001b[0m \u001b[31m1.5 MB/s\u001b[0m eta \u001b[36m0:00:00\u001b[0m\n",
            "\u001b[?25hRequirement already satisfied: entrypoints in /usr/local/lib/python3.10/dist-packages (from altair<6,>=4.0->streamlit) (0.4)\n",
            "Requirement already satisfied: jinja2 in /usr/local/lib/python3.10/dist-packages (from altair<6,>=4.0->streamlit) (3.1.4)\n",
            "Requirement already satisfied: jsonschema>=3.0 in /usr/local/lib/python3.10/dist-packages (from altair<6,>=4.0->streamlit) (4.23.0)\n",
            "Requirement already satisfied: toolz in /usr/local/lib/python3.10/dist-packages (from altair<6,>=4.0->streamlit) (0.12.1)\n",
            "Requirement already satisfied: gitdb<5,>=4.0.1 in /usr/local/lib/python3.10/dist-packages (from gitpython!=3.1.19,<4,>=3.0.7->streamlit) (4.0.11)\n",
            "Requirement already satisfied: python-dateutil>=2.8.2 in /usr/local/lib/python3.10/dist-packages (from pandas<3,>=1.4.0->streamlit) (2.8.2)\n",
            "Requirement already satisfied: pytz>=2020.1 in /usr/local/lib/python3.10/dist-packages (from pandas<3,>=1.4.0->streamlit) (2024.2)\n",
            "Requirement already satisfied: tzdata>=2022.7 in /usr/local/lib/python3.10/dist-packages (from pandas<3,>=1.4.0->streamlit) (2024.2)\n",
            "Requirement already satisfied: charset-normalizer<4,>=2 in /usr/local/lib/python3.10/dist-packages (from requests<3,>=2.27->streamlit) (3.4.0)\n",
            "Requirement already satisfied: idna<4,>=2.5 in /usr/local/lib/python3.10/dist-packages (from requests<3,>=2.27->streamlit) (3.10)\n",
            "Requirement already satisfied: urllib3<3,>=1.21.1 in /usr/local/lib/python3.10/dist-packages (from requests<3,>=2.27->streamlit) (2.2.3)\n",
            "Requirement already satisfied: certifi>=2017.4.17 in /usr/local/lib/python3.10/dist-packages (from requests<3,>=2.27->streamlit) (2024.8.30)\n",
            "Requirement already satisfied: markdown-it-py>=2.2.0 in /usr/local/lib/python3.10/dist-packages (from rich<14,>=10.14.0->streamlit) (3.0.0)\n",
            "Requirement already satisfied: pygments<3.0.0,>=2.13.0 in /usr/local/lib/python3.10/dist-packages (from rich<14,>=10.14.0->streamlit) (2.18.0)\n",
            "Requirement already satisfied: smmap<6,>=3.0.1 in /usr/local/lib/python3.10/dist-packages (from gitdb<5,>=4.0.1->gitpython!=3.1.19,<4,>=3.0.7->streamlit) (5.0.1)\n",
            "Requirement already satisfied: MarkupSafe>=2.0 in /usr/local/lib/python3.10/dist-packages (from jinja2->altair<6,>=4.0->streamlit) (3.0.2)\n",
            "Requirement already satisfied: attrs>=22.2.0 in /usr/local/lib/python3.10/dist-packages (from jsonschema>=3.0->altair<6,>=4.0->streamlit) (24.2.0)\n",
            "Requirement already satisfied: jsonschema-specifications>=2023.03.6 in /usr/local/lib/python3.10/dist-packages (from jsonschema>=3.0->altair<6,>=4.0->streamlit) (2024.10.1)\n",
            "Requirement already satisfied: referencing>=0.28.4 in /usr/local/lib/python3.10/dist-packages (from jsonschema>=3.0->altair<6,>=4.0->streamlit) (0.35.1)\n",
            "Requirement already satisfied: rpds-py>=0.7.1 in /usr/local/lib/python3.10/dist-packages (from jsonschema>=3.0->altair<6,>=4.0->streamlit) (0.20.0)\n",
            "Requirement already satisfied: mdurl~=0.1 in /usr/local/lib/python3.10/dist-packages (from markdown-it-py>=2.2.0->rich<14,>=10.14.0->streamlit) (0.1.2)\n",
            "Requirement already satisfied: six>=1.5 in /usr/local/lib/python3.10/dist-packages (from python-dateutil>=2.8.2->pandas<3,>=1.4.0->streamlit) (1.16.0)\n",
            "Downloading streamlit-1.39.0-py2.py3-none-any.whl (8.7 MB)\n",
            "\u001b[2K   \u001b[90m━━━━━━━━━━━━━━━━━━━━━━━━━━━━━━━━━━━━━━━━\u001b[0m \u001b[32m8.7/8.7 MB\u001b[0m \u001b[31m46.2 MB/s\u001b[0m eta \u001b[36m0:00:00\u001b[0m\n",
            "\u001b[?25hDownloading pydeck-0.9.1-py2.py3-none-any.whl (6.9 MB)\n",
            "\u001b[2K   \u001b[90m━━━━━━━━━━━━━━━━━━━━━━━━━━━━━━━━━━━━━━━━\u001b[0m \u001b[32m6.9/6.9 MB\u001b[0m \u001b[31m66.8 MB/s\u001b[0m eta \u001b[36m0:00:00\u001b[0m\n",
            "\u001b[?25hDownloading watchdog-5.0.3-py3-none-manylinux2014_x86_64.whl (79 kB)\n",
            "\u001b[2K   \u001b[90m━━━━━━━━━━━━━━━━━━━━━━━━━━━━━━━━━━━━━━━━\u001b[0m \u001b[32m79.3/79.3 kB\u001b[0m \u001b[31m4.8 MB/s\u001b[0m eta \u001b[36m0:00:00\u001b[0m\n",
            "\u001b[?25hInstalling collected packages: watchdog, pydeck, streamlit\n",
            "Successfully installed pydeck-0.9.1 streamlit-1.39.0 watchdog-5.0.3\n"
          ]
        }
      ]
    },
    {
      "cell_type": "code",
      "source": [
        "import streamlit as st\n",
        "\n",
        "st.title(\"streamlit widgets\")\n",
        "st.text_input(\"enter your name\")\n",
        "st.slider(\"select your age\",min_value=18,max_value=100)\n",
        "st.button(\"submit\")"
      ],
      "metadata": {
        "id": "X68p9mjnWAAQ"
      },
      "execution_count": null,
      "outputs": []
    },
    {
      "cell_type": "markdown",
      "source": [
        "# Q6 session\n",
        " session in streamlit maintain user-specific data across interaction"
      ],
      "metadata": {
        "id": "El9z6NaNWP5v"
      }
    },
    {
      "cell_type": "code",
      "source": [
        "import streamlit as st\n",
        "\n",
        "if 'count' not in st.session_state:\n",
        "  st.session_state['count']=0\n",
        "\n",
        "if st.button(\"increment\"):\n",
        "  st.session_state['count']+=1\n",
        "\n",
        "st.write(f\"count:{st.session_state.count}\")"
      ],
      "metadata": {
        "id": "q4GdLhAmWziX"
      },
      "execution_count": null,
      "outputs": []
    },
    {
      "cell_type": "markdown",
      "source": [
        "#Q7 running the streamlit file\n",
        "to run the streamlit file command used is:\n",
        "\n",
        "streamlit run file_name.py"
      ],
      "metadata": {
        "id": "lRHfbvHSXPru"
      }
    },
    {
      "cell_type": "markdown",
      "source": [
        "#Q8 plotting a graph in streamlit"
      ],
      "metadata": {
        "id": "-RhaRaE9X876"
      }
    },
    {
      "cell_type": "code",
      "source": [
        "import pandas as pd\n",
        "import streamlit as st\n",
        "\n",
        "st.title(\"plotting a graph\")\n",
        "\n",
        "df=pd.DataFrame({\n",
        "    \"x\":[1,2,3,4,5],\n",
        "    \"y\":[10,20,30,40,50]\n",
        "})\n",
        "\n",
        "st.line_chart(df)\n",
        "\n",
        "st.bar_chart(df)"
      ],
      "metadata": {
        "id": "CMzhrw5VYE8F"
      },
      "execution_count": null,
      "outputs": []
    }
  ]
}